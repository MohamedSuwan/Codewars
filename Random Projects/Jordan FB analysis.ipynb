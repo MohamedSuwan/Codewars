{
 "cells": [
  {
   "cell_type": "code",
   "execution_count": 1,
   "metadata": {},
   "outputs": [],
   "source": [
    "import pandas as pd\n",
    "import matplotlib.pyplot as plt\n",
    "import matplotlib.style as st"
   ]
  },
  {
   "cell_type": "code",
   "execution_count": 2,
   "metadata": {},
   "outputs": [],
   "source": [
    "st.use(\"ggplot\")"
   ]
  },
  {
   "cell_type": "code",
   "execution_count": 3,
   "metadata": {},
   "outputs": [],
   "source": [
    "df=pd.read_csv(\"newJordan.csv\",usecols=[\"id\",\"phone\",\"religion\",\"birthday\",\"first\",\"last\",\"gender\",\"lang\"])"
   ]
  },
  {
   "cell_type": "code",
   "execution_count": 4,
   "metadata": {},
   "outputs": [],
   "source": [
    "df=df.drop_duplicates()"
   ]
  },
  {
   "cell_type": "code",
   "execution_count": 6,
   "metadata": {},
   "outputs": [
    {
     "data": {
      "text/plain": [
       "gender\n",
       "female     977873\n",
       "male      2054414\n",
       "Name: gender, dtype: int64"
      ]
     },
     "execution_count": 6,
     "metadata": {},
     "output_type": "execute_result"
    }
   ],
   "source": [
    "df.groupby(\"gender\")[\"gender\"].count()\n",
    "# plt.legend()"
   ]
  },
  {
   "cell_type": "code",
   "execution_count": 7,
   "metadata": {},
   "outputs": [
    {
     "data": {
      "text/plain": [
       "id          2001393\n",
       "phone       2001393\n",
       "religion      42755\n",
       "birthday     114849\n",
       "first       2001389\n",
       "last        2001379\n",
       "gender      1951844\n",
       "lang        2001393\n",
       "dtype: int64"
      ]
     },
     "execution_count": 7,
     "metadata": {},
     "output_type": "execute_result"
    }
   ],
   "source": [
    "df[df[\"phone\"]>=962785555555].count()"
   ]
  },
  {
   "cell_type": "markdown",
   "metadata": {},
   "source": [
    "check duplicate id"
   ]
  },
  {
   "cell_type": "code",
   "execution_count": 9,
   "metadata": {},
   "outputs": [
    {
     "data": {
      "text/plain": [
       "id          1099692\n",
       "phone       1099692\n",
       "religion      16014\n",
       "birthday      44527\n",
       "first       1099691\n",
       "last        1099680\n",
       "gender      1080444\n",
       "lang        1099692\n",
       "dtype: int64"
      ]
     },
     "execution_count": 9,
     "metadata": {},
     "output_type": "execute_result"
    }
   ],
   "source": [
    "df[df[\"phone\"]<=962785555555].count()"
   ]
  },
  {
   "cell_type": "code",
   "execution_count": 10,
   "metadata": {},
   "outputs": [
    {
     "data": {
      "text/plain": [
       "<matplotlib.legend.Legend at 0x7f41553adaf0>"
      ]
     },
     "execution_count": 10,
     "metadata": {},
     "output_type": "execute_result"
    },
    {
     "data": {
      "image/png": "[encoded data removed]",
      "text/plain": [
       "<Figure size 432x288 with 1 Axes>"
      ]
     },
     "metadata": {},
     "output_type": "display_data"
    }
   ],
   "source": [
    "df.groupby(\"gender\")[\"gender\"].count().plot(kind=\"bar\")\n",
    "plt.legend()"
   ]
  },
  {
   "cell_type": "markdown",
   "metadata": {},
   "source": [
    "apperently adding or changing a phone number results in duplicate records with the second one being the latter record"
   ]
  },
  {
   "cell_type": "code",
   "execution_count": null,
   "metadata": {},
   "outputs": [],
   "source": [
    "# how droping duplicates affect indexes?\n",
    "df[df.duplicated(\"id\",keep=False)].sort_values(\"id\")"
   ]
  },
  {
   "cell_type": "code",
   "execution_count": null,
   "metadata": {},
   "outputs": [],
   "source": [
    "df.reset_index()\n",
    "# df.reindex()"
   ]
  },
  {
   "cell_type": "code",
   "execution_count": 13,
   "metadata": {},
   "outputs": [],
   "source": [
    "import re"
   ]
  },
  {
   "cell_type": "markdown",
   "metadata": {},
   "source": [
    "there is 11667 unique religion, not unique really, just the description or the languge used"
   ]
  },
  {
   "cell_type": "code",
   "execution_count": 14,
   "metadata": {},
   "outputs": [
    {
     "data": {
      "text/plain": [
       "الاسلام                                                                                                 6531\n",
       "Muslim                                                                                                  5257\n",
       "Muslim - Sunni                                                                                          4168\n",
       "Islam                                                                                                   4113\n",
       "مسلم                                                                                                    3580\n",
       "                                                                                                        ... \n",
       "Muslim and proud (Live Free Or Die Hard)                                                                   1\n",
       "مسلم سني وألي الفخر                                                                                        1\n",
       "moslem (i hane nothig .........................shiet i dont need any person on my life                     1\n",
       "الاسلام (أشهد ان لااله الا الله)                                                                           1\n",
       "Islam (surroundering to the creater of life and the universe and founder of human race and worshipin       1\n",
       "Name: religion, Length: 11667, dtype: int64"
      ]
     },
     "execution_count": 14,
     "metadata": {},
     "output_type": "execute_result"
    }
   ],
   "source": [
    "df.religion.value_counts()"
   ]
  },
  {
   "cell_type": "code",
   "execution_count": 15,
   "metadata": {},
   "outputs": [],
   "source": [
    "# df.religion.str.findall(\".*Mu*.\")"
   ]
  },
  {
   "cell_type": "code",
   "execution_count": 74,
   "metadata": {},
   "outputs": [],
   "source": [
    "newd=df.replace({\"religion\":[\".*(سن|Islam|isl|Musulman|sl|Ислам|SL|Sl|سل|مح|محم).*\"]},\"Muslim\",regex=True)"
   ]
  },
  {
   "cell_type": "code",
   "execution_count": 75,
   "metadata": {},
   "outputs": [],
   "source": [
    "newd=newd.replace({\"religion\":[\".*(Христианство|sih|seh|cristian|atholic|ch|CH|Ch|مسي).*\"]},\"Christian\",regex=True)"
   ]
  },
  {
   "cell_type": "code",
   "execution_count": 76,
   "metadata": {},
   "outputs": [],
   "source": [
    "newd=newd.replace({\"religion\":[\".*(God|god|GOD|Other|other).*\"]},\"Other\",regex=True)"
   ]
  },
  {
   "cell_type": "code",
   "execution_count": 77,
   "metadata": {},
   "outputs": [],
   "source": [
    "newd=newd.replace({\"religion\":[\".*(الله|م|ﺍﻟ|isalam|ﺍﻟﻠﻪ|Isalm|allah|ﻣﺴﻠﻢ|Allah|isalm|لل|الا).*\"]},\"Muslim\",regex=True)"
   ]
  },
  {
   "cell_type": "code",
   "execution_count": 78,
   "metadata": {},
   "outputs": [],
   "source": [
    "newd=newd.replace({\"religion\":[\".*(indu|udd).*\"]},\"Hindu & Buddhist\",regex=True)"
   ]
  },
  {
   "cell_type": "code",
   "execution_count": 79,
   "metadata": {},
   "outputs": [],
   "source": [
    "newd=newd.replace({\"religion\":[\".*(uman|UMAN).*\"]},\"Humanism\",regex=True)"
   ]
  },
  {
   "cell_type": "code",
   "execution_count": 81,
   "metadata": {},
   "outputs": [],
   "source": [
    "newd=newd.replace({\"religion\":[\".*(ruze|urzi).*\"]},\"Druze\",regex=True)"
   ]
  },
  {
   "cell_type": "code",
   "execution_count": 115,
   "metadata": {},
   "outputs": [],
   "source": [
    "newd=newd.replace({\"religion\":[\".*(ecular|gnostic|Ath|None|none|أدري|no|No|NON|non).*\"]},\"Non believer\",regex=True)"
   ]
  },
  {
   "cell_type": "markdown",
   "metadata": {},
   "source": [
    "the below script shows that the unique values have reduced from 11667 to 421 with around 400 contributing to 1.5% of total records. \n",
    "these 1.5 are strange font, languages and phrases."
   ]
  },
  {
   "cell_type": "code",
   "execution_count": 153,
   "metadata": {},
   "outputs": [
    {
     "data": {
      "text/plain": [
       "Muslim                          55743\n",
       "Christian                        1751\n",
       "Other                             593\n",
       "Non believer                      137\n",
       "Humanism                           28\n",
       "                                ...  \n",
       "▀▄▀▄▀▄▀▄▀▄▀▄▀▄▀▄▀▄▀▄▀▄▀▄▀▄▀▄        1\n",
       "อิสสลาม (รัก อิสลาม)                1\n",
       "لن أصف نفسي إلا أني فلسطيني         1\n",
       "Pastafarian                         1\n",
       "Metal \\m/                           1\n",
       "Name: religion, Length: 421, dtype: int64"
      ]
     },
     "execution_count": 153,
     "metadata": {},
     "output_type": "execute_result"
    }
   ],
   "source": [
    "newd.religion.value_counts()"
   ]
  },
  {
   "cell_type": "code",
   "execution_count": 137,
   "metadata": {},
   "outputs": [
    {
     "data": {
      "text/plain": [
       "Muslim                              94.852641\n",
       "Christian                            2.979513\n",
       "Other                                1.009053\n",
       "Non believer                         0.233120\n",
       "Humanism                             0.047645\n",
       "Hindu & Buddhist                     0.035734\n",
       "Druze                                0.030629\n",
       "Judaism                              0.011911\n",
       "ا                                    0.010210\n",
       "What are your religious beliefs?     0.010210\n",
       "Name: religion, dtype: float64"
      ]
     },
     "execution_count": 137,
     "metadata": {},
     "output_type": "execute_result"
    }
   ],
   "source": [
    "newd.religion.value_counts(normalize=True)[:10]*100"
   ]
  },
  {
   "cell_type": "code",
   "execution_count": 152,
   "metadata": {},
   "outputs": [
    {
     "data": {
      "text/plain": [
       "<AxesSubplot:>"
      ]
     },
     "execution_count": 152,
     "metadata": {},
     "output_type": "execute_result"
    },
    {
     "data": {
      "image/png": "[encoded data removed]",
      "text/plain": [
       "<Figure size 432x288 with 1 Axes>"
      ]
     },
     "metadata": {},
     "output_type": "display_data"
    }
   ],
   "source": [
    "newd[newd.religion.notna()].religion.value_counts()[0:8].plot(kind=\"bar\")"
   ]
  },
  {
   "cell_type": "markdown",
   "metadata": {},
   "source": [
    "logarithmic scale, graph could be deceiving, islam has 94.853% of the not nan religion values"
   ]
  },
  {
   "cell_type": "code",
   "execution_count": 151,
   "metadata": {},
   "outputs": [
    {
     "data": {
      "image/png": "[encoded data removed]",
      "text/plain": [
       "<Figure size 432x288 with 1 Axes>"
      ]
     },
     "metadata": {},
     "output_type": "display_data"
    }
   ],
   "source": [
    "newd[newd.religion.notna()].religion.value_counts()[0:8].plot(kind=\"bar\")\n",
    "plt.yscale(\"log\")"
   ]
  }
 ],
 "metadata": {
  "interpreter": {
   "hash": "e7370f93d1d0cde622a1f8e1c04877d8463912d04d973331ad4851f04de6915a"
  },
  "kernelspec": {
   "display_name": "Python 3.8.10 64-bit",
   "name": "python3"
  },
  "language_info": {
   "codemirror_mode": {
    "name": "ipython",
    "version": 3
   },
   "file_extension": ".py",
   "mimetype": "text/x-python",
   "name": "python",
   "nbconvert_exporter": "python",
   "pygments_lexer": "ipython3",
   "version": "3.8.10"
  },
  "orig_nbformat": 4
 },
 "nbformat": 4,
 "nbformat_minor": 2
}
